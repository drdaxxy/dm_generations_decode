{
  "nbformat": 4,
  "nbformat_minor": 0,
  "metadata": {
    "colab": {
      "name": "dm_generations_decode.ipynb",
      "provenance": []
    },
    "kernelspec": {
      "name": "python3",
      "display_name": "Python 3"
    },
    "language_info": {
      "name": "python"
    },
    "accelerator": "GPU",
    "gpuClass": "standard"
  },
  "cells": [
    {
      "cell_type": "markdown",
      "source": [
        "## Setup"
      ],
      "metadata": {
        "id": "ubfLPoxNt6Y5"
      }
    },
    {
      "cell_type": "markdown",
      "source": [
        "### Install dependencies"
      ],
      "metadata": {
        "id": "-YbAb2eztr0f"
      }
    },
    {
      "cell_type": "code",
      "execution_count": null,
      "metadata": {
        "id": "mitQvQghnmDO"
      },
      "outputs": [],
      "source": [
        "!git clone https://github.com/drdaxxy/dm_generations_decode\n",
        "%cd dm_generations_decode\n",
        "!pip install -r requirements.txt"
      ]
    },
    {
      "cell_type": "markdown",
      "source": [
        "### Prepare VQGAN decoder"
      ],
      "metadata": {
        "id": "VtKrvQ0ctz1G"
      }
    },
    {
      "cell_type": "code",
      "source": [
        "import os\n",
        "# do not reserve 90% of GPU memory for JAX\n",
        "os.environ[\"XLA_PYTHON_CLIENT_ALLOCATOR\"] = \"platform\"\n",
        "\n",
        "import jax\n",
        "import jax.numpy as jnp\n",
        "import numpy as np\n",
        "from vqgan_jax.modeling_flax_vqgan import VQModel\n",
        "\n",
        "VQGAN_REPO = \"dalle-mini/vqgan_imagenet_f16_16384\"\n",
        "VQGAN_COMMIT_ID = \"e93a26e7707683d349bf5d5c41c5b0ef69b677a9\"\n",
        "device = jax.devices()[0]\n",
        "\n",
        "vqgan, vqgan_params = VQModel.from_pretrained(\n",
        "    VQGAN_REPO, revision=VQGAN_COMMIT_ID, dtype=jnp.float32, _do_init=False\n",
        ")\n",
        "del vqgan_params[\"encoder\"]\n",
        "vqgan_params = jax.device_put(vqgan_params, device)\n",
        "\n",
        "@jax.jit\n",
        "def vqgan_decode(indices: np.ndarray, vqgan_params):\n",
        "    return (\n",
        "        vqgan.decode_code(indices, params=vqgan_params).clip(0.0, 1.0) * 255\n",
        "    ).astype(jnp.uint8)"
      ],
      "metadata": {
        "id": "PlORR4egsrFp"
      },
      "execution_count": null,
      "outputs": []
    },
    {
      "cell_type": "markdown",
      "source": [
        "### Program code"
      ],
      "metadata": {
        "id": "RyeJKRDsuHzh"
      }
    },
    {
      "cell_type": "code",
      "source": [
        "from dm_generations_decode import *\n",
        "\n",
        "from collections import deque\n",
        "from functools import partial\n",
        "from math import ceil\n",
        "from tqdm.auto import tqdm\n",
        "from typing import Dict, Iterable\n",
        "\n",
        "def process_groups(\n",
        "    groups: Iterable[ImageGroup],\n",
        "    batch_size: int,\n",
        "    device,\n",
        "    vqgan_params: Dict,\n",
        "    task_factory: ImageGroupTaskFactory,\n",
        ") -> None:\n",
        "    total = 0\n",
        "    queue = deque()\n",
        "    \n",
        "    getter = lambda g: g.embeddings\n",
        "    for group in groups:\n",
        "        task = task_factory(group)\n",
        "        queue.append((task, Producer(partial(getter, group))))\n",
        "        total += group.ct\n",
        "\n",
        "    for batch, index in tqdm(\n",
        "        batch_iter(iter(queue), batch_size), total=ceil(total / batch_size)\n",
        "    ):\n",
        "        codes = jax.device_put(batch, device)\n",
        "        images = jax.device_get(vqgan_decode(codes, vqgan_params))\n",
        "        i = 0\n",
        "        for task, chunk_len in index:\n",
        "            task(images[i : i + chunk_len])\n",
        "            i += chunk_len"
      ],
      "metadata": {
        "id": "XNydGajHnxjN"
      },
      "execution_count": null,
      "outputs": []
    },
    {
      "cell_type": "markdown",
      "source": [
        "### Open database"
      ],
      "metadata": {
        "id": "ap9A91PCuNqs"
      }
    },
    {
      "cell_type": "code",
      "source": [
        "import sqlite3\n",
        "con = sqlite3.connect(\"dm_generations_sampling.db\", check_same_thread=False)\n",
        "con.row_factory = sqlite3.Row\n",
        "cur = con.cursor()"
      ],
      "metadata": {
        "id": "4ewPnx5ss91o"
      },
      "execution_count": null,
      "outputs": []
    },
    {
      "cell_type": "markdown",
      "source": [
        "## Adjust settings and run\n",
        "* \"images\" mode produces one file per generated image\n",
        "  * **needed for the sample browser**\n",
        "* \"gallery\" mode creates grids showing all images generated with the same settings, sorted by CLIP score\n",
        "  * good for browsing in an image viewer\n",
        "\n",
        "The first batch will take a little longer due to compilation, be patient.\n",
        "\n",
        "In total, the provided 71,680 images took about 25 min on my 3090 and should take about 75 min on Colab's T4."
      ],
      "metadata": {
        "id": "oo3Lav6juRF1"
      }
    },
    {
      "cell_type": "code",
      "source": [
        "mode = \"images\" #@param [\"images\", \"gallery\"]\n",
        "gallery_cols =  8#@param {type:\"integer\"}\n",
        "gallery_rows =  4#@param {type:\"integer\"}\n",
        "\n",
        "from functools import partialmethod\n",
        "import concurrent.futures\n",
        "\n",
        "executor = concurrent.futures.ThreadPoolExecutor()\n",
        "\n",
        "task_user_args = {\n",
        "    \"out_dir\": mode,\n",
        "    \"overwrite\": False,\n",
        "}\n",
        "\n",
        "if mode == \"images\":\n",
        "    base_task = SaveImagesTaskBase\n",
        "elif mode == \"gallery\":\n",
        "    base_task = SaveGalleryTaskBase\n",
        "    task_user_args.update({\n",
        "        \"cols\": gallery_cols,\n",
        "        \"rows\": gallery_rows\n",
        "    })\n",
        "else:\n",
        "    raise ValueError(f\"Unknown mode: {mode}\")\n",
        "\n",
        "class task_factory(base_task):\n",
        "    __call__ = partialmethod(base_task.__call__, **task_user_args, executor=executor)\n",
        "\n",
        "groups = ImageGroup.fetch_meta(cur)\n",
        "process_groups(groups, 32, device, vqgan_params, task_factory)"
      ],
      "metadata": {
        "id": "iw9Z5Wk_s_HO"
      },
      "execution_count": null,
      "outputs": []
    },
    {
      "cell_type": "markdown",
      "source": [
        "After running the above cell, outputs will be in `[dm_generations_decode]/images` or `[dm_generations_decode]/gallery`.\n",
        "\n",
        "If you're running this on a notebook server like Colab and want to download the results, archive them first:"
      ],
      "metadata": {
        "id": "-3HsvXAKzLFA"
      }
    },
    {
      "cell_type": "code",
      "source": [
        "!zip -0 -r -q dm_generations_{mode}.zip {mode}"
      ],
      "metadata": {
        "id": "LO9u3St3znFJ"
      },
      "execution_count": null,
      "outputs": []
    }
  ]
}